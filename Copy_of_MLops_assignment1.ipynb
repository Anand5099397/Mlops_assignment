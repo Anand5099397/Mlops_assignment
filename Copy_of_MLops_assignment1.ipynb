{
  "nbformat": 4,
  "nbformat_minor": 0,
  "metadata": {
    "colab": {
      "provenance": []
    },
    "kernelspec": {
      "name": "python3",
      "display_name": "Python 3"
    },
    "language_info": {
      "name": "python"
    }
  },
  "cells": [
    {
      "cell_type": "markdown",
      "source": [
        "## MLOps Assignment 1"
      ],
      "metadata": {
        "id": "LlIGlcIiywyq"
      }
    },
    {
      "cell_type": "markdown",
      "source": [
        "Q1. Print multiplication table from 1 to 10"
      ],
      "metadata": {
        "id": "i3GplYoCqa89"
      }
    },
    {
      "cell_type": "code",
      "source": [
        "#write here and run the cell\n",
        "def print_table():\n",
        "\n",
        "    start = 1\n",
        "    end = 10\n",
        "\n",
        "    # Iterate through numbers 1 to 10 for creating tables\n",
        "    for i in range(start, end + 1):\n",
        "        print(f\"Multiplication Table for {i}\")\n",
        "        print(\"-\" * 20)\n",
        "        for j in range(start, end + 1):\n",
        "            print(f\"{i} x {j} = {i * j}\")\n",
        "        print()\n",
        "\n",
        "# Call the function to print the tables\n",
        "print_table()\n"
      ],
      "metadata": {
        "id": "Vfm5RBY0qbIs",
        "colab": {
          "base_uri": "https://localhost:8080/"
        },
        "outputId": "cfe8f8e6-524e-4a8f-c487-a0d31d43ba72"
      },
      "execution_count": 1,
      "outputs": [
        {
          "output_type": "stream",
          "name": "stdout",
          "text": [
            "Multiplication Table for 1\n",
            "--------------------\n",
            "1 x 1 = 1\n",
            "1 x 2 = 2\n",
            "1 x 3 = 3\n",
            "1 x 4 = 4\n",
            "1 x 5 = 5\n",
            "1 x 6 = 6\n",
            "1 x 7 = 7\n",
            "1 x 8 = 8\n",
            "1 x 9 = 9\n",
            "1 x 10 = 10\n",
            "\n",
            "Multiplication Table for 2\n",
            "--------------------\n",
            "2 x 1 = 2\n",
            "2 x 2 = 4\n",
            "2 x 3 = 6\n",
            "2 x 4 = 8\n",
            "2 x 5 = 10\n",
            "2 x 6 = 12\n",
            "2 x 7 = 14\n",
            "2 x 8 = 16\n",
            "2 x 9 = 18\n",
            "2 x 10 = 20\n",
            "\n",
            "Multiplication Table for 3\n",
            "--------------------\n",
            "3 x 1 = 3\n",
            "3 x 2 = 6\n",
            "3 x 3 = 9\n",
            "3 x 4 = 12\n",
            "3 x 5 = 15\n",
            "3 x 6 = 18\n",
            "3 x 7 = 21\n",
            "3 x 8 = 24\n",
            "3 x 9 = 27\n",
            "3 x 10 = 30\n",
            "\n",
            "Multiplication Table for 4\n",
            "--------------------\n",
            "4 x 1 = 4\n",
            "4 x 2 = 8\n",
            "4 x 3 = 12\n",
            "4 x 4 = 16\n",
            "4 x 5 = 20\n",
            "4 x 6 = 24\n",
            "4 x 7 = 28\n",
            "4 x 8 = 32\n",
            "4 x 9 = 36\n",
            "4 x 10 = 40\n",
            "\n",
            "Multiplication Table for 5\n",
            "--------------------\n",
            "5 x 1 = 5\n",
            "5 x 2 = 10\n",
            "5 x 3 = 15\n",
            "5 x 4 = 20\n",
            "5 x 5 = 25\n",
            "5 x 6 = 30\n",
            "5 x 7 = 35\n",
            "5 x 8 = 40\n",
            "5 x 9 = 45\n",
            "5 x 10 = 50\n",
            "\n",
            "Multiplication Table for 6\n",
            "--------------------\n",
            "6 x 1 = 6\n",
            "6 x 2 = 12\n",
            "6 x 3 = 18\n",
            "6 x 4 = 24\n",
            "6 x 5 = 30\n",
            "6 x 6 = 36\n",
            "6 x 7 = 42\n",
            "6 x 8 = 48\n",
            "6 x 9 = 54\n",
            "6 x 10 = 60\n",
            "\n",
            "Multiplication Table for 7\n",
            "--------------------\n",
            "7 x 1 = 7\n",
            "7 x 2 = 14\n",
            "7 x 3 = 21\n",
            "7 x 4 = 28\n",
            "7 x 5 = 35\n",
            "7 x 6 = 42\n",
            "7 x 7 = 49\n",
            "7 x 8 = 56\n",
            "7 x 9 = 63\n",
            "7 x 10 = 70\n",
            "\n",
            "Multiplication Table for 8\n",
            "--------------------\n",
            "8 x 1 = 8\n",
            "8 x 2 = 16\n",
            "8 x 3 = 24\n",
            "8 x 4 = 32\n",
            "8 x 5 = 40\n",
            "8 x 6 = 48\n",
            "8 x 7 = 56\n",
            "8 x 8 = 64\n",
            "8 x 9 = 72\n",
            "8 x 10 = 80\n",
            "\n",
            "Multiplication Table for 9\n",
            "--------------------\n",
            "9 x 1 = 9\n",
            "9 x 2 = 18\n",
            "9 x 3 = 27\n",
            "9 x 4 = 36\n",
            "9 x 5 = 45\n",
            "9 x 6 = 54\n",
            "9 x 7 = 63\n",
            "9 x 8 = 72\n",
            "9 x 9 = 81\n",
            "9 x 10 = 90\n",
            "\n",
            "Multiplication Table for 10\n",
            "--------------------\n",
            "10 x 1 = 10\n",
            "10 x 2 = 20\n",
            "10 x 3 = 30\n",
            "10 x 4 = 40\n",
            "10 x 5 = 50\n",
            "10 x 6 = 60\n",
            "10 x 7 = 70\n",
            "10 x 8 = 80\n",
            "10 x 9 = 90\n",
            "10 x 10 = 100\n",
            "\n"
          ]
        }
      ]
    },
    {
      "cell_type": "markdown",
      "source": [
        "Q2. Given two lists, l1 and l2, write a program to create a third list l3 by picking an odd-index element from the list l1 and even index elements from the list l2."
      ],
      "metadata": {
        "id": "kCxjfhGtiMFb"
      }
    },
    {
      "cell_type": "code",
      "source": [
        "#write here and run the cell\n",
        "def create_combined_list(l1, l2):\n",
        "    # Initialize an empty list\n",
        "    l3 = []\n",
        "\n",
        "   2\n",
        "    for i in range(len(l1)):\n",
        "        # Pick odd-index elements from l1\n",
        "        if i % 2 != 0:\n",
        "            l3.append(l1[i])\n",
        "\n",
        "    for j in range(len(l2)):\n",
        "        # Pick even-index elements from l2\n",
        "        if j % 2 == 0:\n",
        "            l3.append(l2[j])\n",
        "\n",
        "    return l3\n",
        "\n",
        "# Example lists\n",
        "l1 = [1, 2, 3, 4, 5, 6]\n",
        "l2 = ['a', 'b', 'c', 'd', 'e', 'f']\n",
        "\n",
        "# Create the third list\n",
        "l3 = create_combined_list(l1, l2)\n",
        "\n",
        "# Print the result\n",
        "print(\"List l1:\", l1)\n",
        "print(\"List l2:\", l2)\n",
        "print(\"Combined list l3:\", l3)\n"
      ],
      "metadata": {
        "id": "r1lkQPN8iNSc",
        "colab": {
          "base_uri": "https://localhost:8080/"
        },
        "outputId": "9688b06d-ee9f-47da-d5d5-d79bfd57e9b9"
      },
      "execution_count": 2,
      "outputs": [
        {
          "output_type": "stream",
          "name": "stdout",
          "text": [
            "List l1: [10, 20, 30, 40, 50, 60]\n",
            "List l2: ['a', 'b', 'c', 'd', 'e', 'f']\n",
            "Combined list l3: [20, 40, 60, 'a', 'c', 'e']\n"
          ]
        }
      ]
    },
    {
      "cell_type": "markdown",
      "source": [
        "Q3. Print a this pattern(*)\n",
        "\n",
        "    * * * * * * * *\n",
        "      * * * * * * *\n",
        "        * * * * * *\n",
        "          * * * * *\n",
        "            * * * *\n",
        "              * * *\n",
        "                * *\n",
        "                  *"
      ],
      "metadata": {
        "id": "GBb0FgtIq4YA"
      }
    },
    {
      "cell_type": "code",
      "source": [
        "#write here and run the cell\n",
        "def print_pattern(rows):\n",
        "    # Iterate through each row\n",
        "    for i in range(rows):\n",
        "        # Print leading spaces\n",
        "        print(' ' * (2 * i), end='')\n",
        "        # Print asterisks\n",
        "        print('* ' * (rows - i))\n",
        "\n",
        "# Define the number of rows\n",
        "rows = 8\n",
        "\n",
        "# Call the function to print the pattern\n",
        "print_pattern(rows)\n"
      ],
      "metadata": {
        "id": "rfbGzuA3rcGs",
        "colab": {
          "base_uri": "https://localhost:8080/"
        },
        "outputId": "eaf8c9ca-3e65-49aa-9f2d-2d0adee0c247"
      },
      "execution_count": 4,
      "outputs": [
        {
          "output_type": "stream",
          "name": "stdout",
          "text": [
            "* * * * * * * * \n",
            "  * * * * * * * \n",
            "    * * * * * * \n",
            "      * * * * * \n",
            "        * * * * \n",
            "          * * * \n",
            "            * * \n",
            "              * \n"
          ]
        }
      ]
    },
    {
      "cell_type": "markdown",
      "source": [
        "Q4. Create a function named `exponent(base, exp)` that returns an integer representing the result of raising `base` to the power of `exp`.\n",
        "`exp` is >0.\n",
        "\n",
        "base = 5\n",
        "exponent = 4\n",
        "\n",
        "5 raises to the power of 4 is: 625\n",
        "i.e. (5 *5 * 5 *5 = 625)"
      ],
      "metadata": {
        "id": "WIblh-z6s9me"
      }
    },
    {
      "cell_type": "code",
      "source": [
        "#write here and run the cell\n",
        "def exponent(base, exp):\n",
        "    result = 1\n",
        "\n",
        "    # Multiply the result by base, exp number of times\n",
        "    for _ in range(exp):\n",
        "        result *= base\n",
        "\n",
        "    return result\n",
        "\n",
        "# Example usage\n",
        "base = 5\n",
        "exp = 4\n",
        "print(f\"{base} raised to the power of {exp} is: {exponent(base, exp)}\")\n"
      ],
      "metadata": {
        "id": "6-KKDQNWs8eQ",
        "colab": {
          "base_uri": "https://localhost:8080/"
        },
        "outputId": "11166720-c1a1-4e57-ecc6-c424d95aec5d"
      },
      "execution_count": 5,
      "outputs": [
        {
          "output_type": "stream",
          "name": "stdout",
          "text": [
            "5 raised to the power of 4 is: 625\n"
          ]
        }
      ]
    },
    {
      "cell_type": "markdown",
      "source": [
        "Q5. Create a file named test.txt and insert the following content into it.\n",
        "\n",
        "    line1\n",
        "    line2\n",
        "    line3\n",
        "    line4\n",
        "    line5\n",
        "    line6\n",
        "    line7\n",
        "\n",
        "Write a program which write all content of a given file (test.txt) into a new file by skipping line number 5 (line5)"
      ],
      "metadata": {
        "id": "_QUrD8h6t6PN"
      }
    },
    {
      "cell_type": "code",
      "source": [
        "#write here and run the cell\n",
        "def create_test_file():\n",
        "    # Content to be written to test.txt\n",
        "    content = \"\"\"line1\n",
        "line2\n",
        "line3\n",
        "line4\n",
        "line5\n",
        "line6\n",
        "line7\"\"\"\n",
        "\n",
        "    # Write the content to test.txt\n",
        "    with open('test.txt', 'w') as file:\n",
        "        file.write(content)\n",
        "\n",
        "def copy_file_excluding_line(input_file, output_file, line_to_skip):\n",
        "    # Read the content of the input file\n",
        "    with open(input_file, 'r') as infile:\n",
        "        lines = infile.readlines()\n",
        "\n",
        "    # Write the content to the output file, skipping the specified line\n",
        "    with open(output_file, 'w') as outfile:\n",
        "        for index, line in enumerate(lines):\n",
        "            if index != line_to_skip:\n",
        "                outfile.write(line)\n",
        "\n",
        "# Create the initial file\n",
        "create_test_file()\n",
        "\n",
        "# Define file names and the line to skip (zero-based index)\n",
        "input_filename = 'test.txt'\n",
        "output_filename = 'new_test.txt'\n",
        "line_to_skip = 4  # Skipping the fifth line (index 4)\n",
        "\n",
        "# Copy the content to the new file, skipping the specified line\n",
        "copy_file_excluding_line(input_filename, output_filename, line_to_skip)\n",
        "\n",
        "print(f\"Content from {input_filename} has been copied to {output_filename}, skipping line number {line_to_skip + 1}.\")\n"
      ],
      "metadata": {
        "id": "I2KF1QHKrq-s",
        "colab": {
          "base_uri": "https://localhost:8080/"
        },
        "outputId": "97df9b62-5120-4cfd-fce3-ee63fe8a1437"
      },
      "execution_count": 6,
      "outputs": [
        {
          "output_type": "stream",
          "name": "stdout",
          "text": [
            "Content from test.txt has been copied to new_test.txt, skipping line number 5.\n"
          ]
        }
      ]
    },
    {
      "cell_type": "markdown",
      "source": [
        "Q6. Write a program which receives three names from the user in a single input() function call.\n",
        "\n",
        "    Input: IIT JODHPUR RAJASTHAN\n",
        "\n",
        "    Output:\n",
        "    IIT\n",
        "    JODHPUR\n",
        "    RAJASTHAN"
      ],
      "metadata": {
        "id": "6cdAt0ONvMVI"
      }
    },
    {
      "cell_type": "code",
      "source": [
        "#write here and run the cell\n",
        "def print_names():\n",
        "    # Read a single line of input from the user\n",
        "    input_string = input(\"Enter names separated by spaces: \")\n",
        "\n",
        "    # Split the input string into a list of names\n",
        "    names = input_string.split()\n",
        "\n",
        "    # Print each name on a new line\n",
        "    for name in names:\n",
        "        print(name)\n",
        "\n",
        "# Call the function\n",
        "print_names()"
      ],
      "metadata": {
        "id": "Mo0wyeB6vJJm",
        "colab": {
          "base_uri": "https://localhost:8080/"
        },
        "outputId": "939b1fa0-d380-403b-daf2-a00c2419efcc"
      },
      "execution_count": 7,
      "outputs": [
        {
          "output_type": "stream",
          "name": "stdout",
          "text": [
            "Enter names separated by spaces: IIT J R\n",
            "IIT\n",
            "J\n",
            "R\n"
          ]
        }
      ]
    },
    {
      "cell_type": "markdown",
      "source": [
        "Q7. Write a program to define a function called show_employee() with the following requirements:\n",
        "\n",
        "*   It should take the employee's name and salary as input and display both.\n",
        "*   If the salary is not provided in the function call, assign a default value of 9000 to it.\n",
        "\n",
        "After passing:\n",
        "\n",
        "showEmployee(\"Bill Gates\", 12000)\n",
        "\n",
        "showEmployee(\"Elon Musk\")\n",
        "\n",
        "It should print:\n",
        "\n",
        "Name: Bill Gates salary: 12000\n",
        "\n",
        "Name: Elon Musk salary: 9000"
      ],
      "metadata": {
        "id": "jwSKpPcYv_De"
      }
    },
    {
      "cell_type": "code",
      "source": [
        "#write here and run the cell\n",
        "def show_employee(name, salary=9000):\n",
        "    # Print the employee's name and salary\n",
        "    print(f\"Name: {name} salary: {salary}\")\n",
        "\n",
        "# Test the function with different inputs\n",
        "show_employee(\"Bill Gates\", 12000)\n",
        "show_employee(\"Elon Musk\")"
      ],
      "metadata": {
        "id": "yyzhkF1Lv94j",
        "colab": {
          "base_uri": "https://localhost:8080/"
        },
        "outputId": "ea898bc7-2296-4a79-9a50-0ff4fc948ab2"
      },
      "execution_count": 8,
      "outputs": [
        {
          "output_type": "stream",
          "name": "stdout",
          "text": [
            "Name: Bill Gates salary: 12000\n",
            "Name: Elon Musk salary: 9000\n"
          ]
        }
      ]
    },
    {
      "cell_type": "markdown",
      "source": [
        "Q8. Write a program to identify words that contain both letters and digits from a given input string.\n",
        "\n",
        "    Given str1 = \"Harry25 is Gryffindor Wizard50 and cursed\"\n",
        "\n",
        "    Output:\n",
        "    Harry25\n",
        "    Wizard50"
      ],
      "metadata": {
        "id": "BAtCQH3pxXWV"
      }
    },
    {
      "cell_type": "code",
      "source": [
        "#write here and run the cell\n",
        "import re\n",
        "\n",
        "def find_words_with_letters_and_digits(input_string):\n",
        "    # Split the input string into words\n",
        "    words = input_string.split()\n",
        "\n",
        "    # Initialize a list to store words that contain both letters and digits\n",
        "    result = []\n",
        "\n",
        "    # Check each word\n",
        "    for word in words:\n",
        "        # Check if the word contains both letters and digits\n",
        "        if re.search(r'[a-zA-Z]', word) and re.search(r'\\d', word):\n",
        "            result.append(word)\n",
        "\n",
        "    # Print the result\n",
        "    for word in result:\n",
        "        print(word)\n",
        "\n",
        "# Example input\n",
        "str1 = \"Harry25 is Gryffindor Wizard50 and cursed\"\n",
        "\n",
        "# Call the function with the example input\n",
        "find_words_with_letters_and_digits(str1)\n"
      ],
      "metadata": {
        "id": "bqbyxYdqvJHY",
        "colab": {
          "base_uri": "https://localhost:8080/"
        },
        "outputId": "7f024a4d-2b95-478a-8053-b8931cea09d0"
      },
      "execution_count": 9,
      "outputs": [
        {
          "output_type": "stream",
          "name": "stdout",
          "text": [
            "Harry25\n",
            "Wizard50\n"
          ]
        }
      ]
    },
    {
      "cell_type": "markdown",
      "source": [
        "Q9. Write a program to substitute each special character in the given string with the symbol #.\n",
        "\n",
        "    Given: str1 = '/*Modi is @Politician & Melony!!'\n",
        "\n",
        "    Output: ##Modi is #Politician # Melony##"
      ],
      "metadata": {
        "id": "Ev6TIw7oyGzJ"
      }
    },
    {
      "cell_type": "code",
      "source": [
        "#write here and run the cell\n",
        "import re\n",
        "\n",
        "def replace_special_characters(input_string):\n",
        "    # Define a regular expression pattern to match special characters\n",
        "    # This pattern will match any character that is not a letter or digit\n",
        "    pattern = r'[^a-zA-Z0-9\\s]'\n",
        "\n",
        "    # Substitute special characters with '#'\n",
        "    result = re.sub(pattern, '#', input_string)\n",
        "\n",
        "    return result\n",
        "\n",
        "# Example input\n",
        "str1 = '/*Modi is @Politician & Melony!!'\n",
        "\n",
        "# Call the function with the example input\n",
        "output = replace_special_characters(str1)\n",
        "\n",
        "# Print the output\n",
        "print(output)\n"
      ],
      "metadata": {
        "id": "Hbg92hJtvJE7",
        "colab": {
          "base_uri": "https://localhost:8080/"
        },
        "outputId": "64bda957-ffe1-4f27-b9b9-69ca6b23302a"
      },
      "execution_count": 10,
      "outputs": [
        {
          "output_type": "stream",
          "name": "stdout",
          "text": [
            "##Modi is #Politician # Melony##\n"
          ]
        }
      ]
    },
    {
      "cell_type": "markdown",
      "source": [
        "Q10. Construct a Python set that displays elements from both lists as pairs.\n",
        "\n",
        "    Given:\n",
        "\n",
        "    first_list = [2, 3, 4, 5, 6, 7, 8]\n",
        "    second_list = [4, 9, 16, 25, 36, 49, 64]\n",
        "    Output: Result is  {(6, 36), (8, 64), (4, 16), (5, 25), (3, 9), (7, 49), (2, 4)}"
      ],
      "metadata": {
        "id": "L9zg8k_XyoMz"
      }
    },
    {
      "cell_type": "code",
      "source": [
        "#write here and run the cell\n",
        "def construct_pairs(first_list, second_list):\n",
        "    # Ensure both lists have the same length\n",
        "    if len(first_list) != len(second_list):\n",
        "        raise ValueError(\"Both lists must have the same length\")\n",
        "\n",
        "    # Use a set comprehension to create pairs and store them in a set\n",
        "    result_set = {(first_list[i], second_list[i]) for i in range(len(first_list))}\n",
        "\n",
        "    return result_set\n",
        "\n",
        "# Given lists\n",
        "first_list = [2, 3, 4, 5, 6, 7, 8]\n",
        "second_list = [4, 9, 16, 25, 36, 49, 64]\n",
        "\n",
        "# Construct the set of pairs\n",
        "result = construct_pairs(first_list, second_list)\n",
        "\n",
        "# Print the result\n",
        "print(\"Result is\", result)\n"
      ],
      "metadata": {
        "id": "aSBw6V0OvJCS",
        "colab": {
          "base_uri": "https://localhost:8080/"
        },
        "outputId": "5bad3a4d-c4f5-40dc-8530-6e175fecfc10"
      },
      "execution_count": 11,
      "outputs": [
        {
          "output_type": "stream",
          "name": "stdout",
          "text": [
            "Result is {(7, 49), (2, 4), (4, 16), (8, 64), (6, 36), (3, 9), (5, 25)}\n"
          ]
        }
      ]
    },
    {
      "cell_type": "markdown",
      "source": [
        "Q11. Define two set A and B consisting of 5 elements. Now print the element after performing\n",
        "\n",
        "\n",
        "      1.   A-B\n",
        "      2.   B-A\n",
        "      3.   A∩B\n",
        "      4.   A∪B\n",
        "\n",
        "\n"
      ],
      "metadata": {
        "id": "JHa0SMOozZo9"
      }
    },
    {
      "cell_type": "code",
      "source": [
        "#write here and run the cell\n",
        "# Define two sets A and B\n",
        "A = {1, 2, 3, 4, 5}\n",
        "B = {4, 5, 6, 7, 8}\n",
        "\n",
        "# Perform the set operations\n",
        "difference_A_B = A - B\n",
        "difference_B_A = B - A\n",
        "intersection_A_B = A & B\n",
        "union_A_B = A | B\n",
        "\n",
        "# Print the results\n",
        "print(\"A - B:\", difference_A_B)\n",
        "print(\"B - A:\", difference_B_A)\n",
        "print(\"A ∩ B:\", intersection_A_B)\n",
        "print(\"A ∪ B:\", union_A_B)\n"
      ],
      "metadata": {
        "id": "r9vL1bpHzZGg",
        "colab": {
          "base_uri": "https://localhost:8080/"
        },
        "outputId": "2426285e-fcc3-4b37-dd87-24eb38f306f0"
      },
      "execution_count": 13,
      "outputs": [
        {
          "output_type": "stream",
          "name": "stdout",
          "text": [
            "A - B: {1, 2, 3}\n",
            "B - A: {8, 6, 7}\n",
            "A ∩ B: {4, 5}\n",
            "A ∪ B: {1, 2, 3, 4, 5, 6, 7, 8}\n"
          ]
        }
      ]
    },
    {
      "cell_type": "markdown",
      "source": [
        "## Object Oriented Programming Exercise 1:\n",
        "\n",
        "[Classes and Objects in Python](https://pynative.com/python-classes-and-objects/)\n",
        "\n",
        "[Instance variables in Python](https://pynative.com/python-instance-variables/)"
      ],
      "metadata": {
        "id": "UFjTtL_i00dz"
      }
    },
    {
      "cell_type": "markdown",
      "source": [
        "Q12. Create a Vehicle class with max_speed and mileage instance attributes."
      ],
      "metadata": {
        "id": "-PQELvq41z5B"
      }
    },
    {
      "cell_type": "code",
      "source": [
        "#write here and run the cell\n",
        "class Vehicle:\n",
        "    def __init__(self, max_speed, mileage):\n",
        "        # Initialize the instance attributes\n",
        "        self.max_speed = max_speed\n",
        "        self.mileage = mileage\n",
        "\n",
        "    def display_info(self):\n",
        "        # Method to display vehicle information\n",
        "        print(f\"Max Speed: {self.max_speed} km/h\")\n",
        "        print(f\"Mileage: {self.mileage} km\")\n",
        "\n",
        "# Example usage\n",
        "vehicle1 = Vehicle(180, 15000)\n",
        "vehicle2 = Vehicle(120, 25000)\n",
        "\n",
        "# Display information about the vehicles\n",
        "print(\"Vehicle 1 Information:\")\n",
        "vehicle1.display_info()\n",
        "\n",
        "print(\"\\nVehicle 2 Information:\")\n",
        "vehicle2.display_info()\n"
      ],
      "metadata": {
        "id": "Wa16l5-C0z3Z",
        "colab": {
          "base_uri": "https://localhost:8080/"
        },
        "outputId": "a0a2cf94-a44f-4043-c701-7f107c2439de"
      },
      "execution_count": 14,
      "outputs": [
        {
          "output_type": "stream",
          "name": "stdout",
          "text": [
            "Vehicle 1 Information:\n",
            "Max Speed: 180 km/h\n",
            "Mileage: 15000 km\n",
            "\n",
            "Vehicle 2 Information:\n",
            "Max Speed: 120 km/h\n",
            "Mileage: 25000 km\n"
          ]
        }
      ]
    },
    {
      "cell_type": "markdown",
      "source": [
        "Q13. Create a child class Bus that will inherit all of the variables and methods of the Vehicle class.\n",
        "\n",
        "Create a Bus object that will inherit all of the variables and methods of the parent Vehicle class and display it."
      ],
      "metadata": {
        "id": "-Japqg35177L"
      }
    },
    {
      "cell_type": "code",
      "source": [
        "#write here and run the cell\n",
        "# Define the parent class Vehicle\n",
        "class Vehicle:\n",
        "    def __init__(self, max_speed, mileage):\n",
        "        # Initialize the instance attributes\n",
        "        self.max_speed = max_speed\n",
        "        self.mileage = mileage\n",
        "\n",
        "    def display_info(self):\n",
        "        # Method to display vehicle information\n",
        "        print(f\"Max Speed: {self.max_speed} km/h\")\n",
        "        print(f\"Mileage: {self.mileage} km\")\n",
        "\n",
        "# Define the child class Bus that inherits from Vehicle\n",
        "class Bus(Vehicle):\n",
        "    def __init__(self, max_speed, mileage):\n",
        "        # Initialize the parent class attributes\n",
        "        super().__init__(max_speed, mileage)\n",
        "\n",
        "# Create a Bus object\n",
        "my_bus = Bus(100, 30000)\n",
        "\n",
        "# Display information about the bus\n",
        "print(\"Bus Information:\")\n",
        "my_bus.display_info()\n"
      ],
      "metadata": {
        "id": "nUvpX3qR2Upg",
        "colab": {
          "base_uri": "https://localhost:8080/"
        },
        "outputId": "efa47a23-d157-479a-b686-fd2fa5c80a0c"
      },
      "execution_count": 15,
      "outputs": [
        {
          "output_type": "stream",
          "name": "stdout",
          "text": [
            "Bus Information:\n",
            "Max Speed: 100 km/h\n",
            "Mileage: 30000 km\n"
          ]
        }
      ]
    },
    {
      "cell_type": "markdown",
      "source": [
        "### Class Inheritance\n",
        "\n",
        "Q14. Create a Bus class that inherits from the Vehicle class. Give the capacity argument of Bus.seating_capacity() a default value of 50.\n",
        "\n",
        "Use the following code for your parent Vehicle class.\n",
        "\n",
        "    class Vehicle:\n",
        "      def __init__(self, name, max_speed, mileage):\n",
        "          self.name = name\n",
        "          self.max_speed = max_speed\n",
        "          self.mileage = mileage\n",
        "\n",
        "      def seating_capacity(self, capacity):\n",
        "          return f\"The seating capacity of a {self.name} is {capacity} passengers\"\n",
        "\n",
        "Expected Output:\n",
        "\n",
        "    The seating capacity of a bus is 50 passengers"
      ],
      "metadata": {
        "id": "fPFfg2Hh2VBe"
      }
    },
    {
      "cell_type": "code",
      "source": [
        "#write here and run the cell\n",
        "# Define the parent class Vehicle\n",
        "class Vehicle:\n",
        "    def __init__(self, name, max_speed, mileage):\n",
        "        # Initialize instance attributes\n",
        "        self.name = name\n",
        "        self.max_speed = max_speed\n",
        "        self.mileage = mileage\n",
        "\n",
        "    def seating_capacity(self, capacity):\n",
        "        # Method to return seating capacity information\n",
        "        return f\"The seating capacity of a {self.name} is {capacity} passengers\"\n",
        "\n",
        "# Define the child class Bus that inherits from Vehicle\n",
        "class Bus(Vehicle):\n",
        "    def __init__(self, name, max_speed, mileage):\n",
        "        # Initialize the parent class attributes\n",
        "        super().__init__(name, max_speed, mileage)\n",
        "\n",
        "    def seating_capacity(self, capacity=50):\n",
        "        # Override the parent class method with default capacity\n",
        "        return super().seating_capacity(capacity)\n",
        "\n",
        "# Create a Bus object\n",
        "my_bus = Bus(\"City Bus\", 80, 20000)\n",
        "\n",
        "# Display the seating capacity with the default value\n",
        "print(my_bus.seating_capacity())  # Should use default capacity of 50\n",
        "\n",
        "# Display the seating capacity with a custom value\n",
        "print(my_bus.seating_capacity(60))  # Should use custom capacity of 60\n"
      ],
      "metadata": {
        "id": "TKalMy1B2_Ix",
        "colab": {
          "base_uri": "https://localhost:8080/"
        },
        "outputId": "fe3424de-8456-46b9-c61e-a3464bda1c37"
      },
      "execution_count": 16,
      "outputs": [
        {
          "output_type": "stream",
          "name": "stdout",
          "text": [
            "The seating capacity of a City Bus is 50 passengers\n",
            "The seating capacity of a City Bus is 60 passengers\n"
          ]
        }
      ]
    },
    {
      "cell_type": "markdown",
      "source": [
        "Q15. Create a Bus subclass that inherits from the Vehicle class. By default, the fare for any vehicle is calculated as the seating capacity multiplied by 100. For instances of the Bus class, an additional 10% maintenance fee should be applied to the total fare. Therefore, the final fare for a bus instance will be the sum of the total fare plus an additional 10% of that total fare.\n",
        "\n",
        "Note: The bus has a seating capacity of 50, so the final fare amount should be 5500. You need to override the fare() method from the Vehicle class in the Bus class.\n",
        "\n",
        "Use the provided code for the parent Vehicle class. You should access the parent class within a method of the child class.\n",
        "\n",
        "    class Vehicle:\n",
        "      def __init__(self, name, mileage, capacity):\n",
        "        self.name = name\n",
        "        self.mileage = mileage\n",
        "        self.capacity = capacity\n",
        "\n",
        "      def fare(self):\n",
        "        return self.capacity * 100\n",
        "\n",
        "    class Bus(Vehicle):\n",
        "        pass\n",
        "        School_bus = Bus(\"School Volvo\", 12, 50)\n",
        "        print(\"Total Bus fare is:\", School_bus.fare())\n",
        "\n",
        "    Expected Output:\n",
        "\n",
        "    Total Bus fare is: 5500.0"
      ],
      "metadata": {
        "id": "kenJ766m2_jc"
      }
    },
    {
      "cell_type": "code",
      "source": [
        "# Define the parent class Vehicle\n",
        "class Vehicle:\n",
        "    def __init__(self, name, mileage, capacity):\n",
        "        self.name = name\n",
        "        self.mileage = mileage\n",
        "        self.capacity = capacity\n",
        "\n",
        "    def fare(self):\n",
        "        # Default fare calculation\n",
        "        return self.capacity * 100\n",
        "\n",
        "# child class Bus that inherits from Vehicle\n",
        "class Bus(Vehicle):\n",
        "    def fare(self):\n",
        "        # base fare\n",
        "        base_fare = super().fare()\n",
        "        #  maintenance fee = (10% of base fare)\n",
        "        maintenance_fee = base_fare * 0.10\n",
        "        # Total fare = base fare + maintenance fee\n",
        "        return base_fare + maintenance_fee\n",
        "\n",
        "# Create a Bus object\n",
        "school_bus = Bus(\"School Volvo\", 12, 50)\n",
        "\n",
        "# total fare for the bus\n",
        "print(\"Total Bus fare is:\", school_bus.fare())\n"
      ],
      "metadata": {
        "id": "jY3Z5SsY_iaQ",
        "colab": {
          "base_uri": "https://localhost:8080/"
        },
        "outputId": "1c37880d-16de-46d0-9960-4e07d7797b1d"
      },
      "execution_count": 3,
      "outputs": [
        {
          "output_type": "stream",
          "name": "stdout",
          "text": [
            "Total Bus fare is: 5500.0\n"
          ]
        }
      ]
    },
    {
      "cell_type": "markdown",
      "source": [
        "### Python JSON Exercise\n",
        "Refer: [Python JSON tutorials](https://pynative.com/python/json/)"
      ],
      "metadata": {
        "id": "3wMvLEkk_nWE"
      }
    },
    {
      "cell_type": "markdown",
      "source": [
        "Q16. Convert the following dictionary into JSON format\n",
        "\n",
        "    data = {\"key1\" : \"value1\", \"key2\" : \"value2\"}\n",
        "    data = {\"key1\" : \"value1\", \"key2\" : \"value2\"}"
      ],
      "metadata": {
        "id": "zVIiuI0PAcuT"
      }
    },
    {
      "cell_type": "code",
      "source": [
        "#write here and run the cell\n",
        "import json\n",
        "data = {\"key1\": \"value1\", \"key2\": \"value2\"}\n",
        "\n",
        "json_data = json.dumps(data)\n",
        "\n",
        "print(json_data)"
      ],
      "metadata": {
        "id": "Z5M47OYS_mhA",
        "colab": {
          "base_uri": "https://localhost:8080/"
        },
        "outputId": "1e65ce5c-62ca-4bc9-b23a-a7be04b2530f"
      },
      "execution_count": 4,
      "outputs": [
        {
          "output_type": "stream",
          "name": "stdout",
          "text": [
            "{\"key1\": \"value1\", \"key2\": \"value2\"}\n"
          ]
        }
      ]
    },
    {
      "cell_type": "markdown",
      "source": [
        "Q17. Sort JSON keys in and write them into a file\n",
        "\n",
        "    sampleJson = {\"id\" : 1, \"name\" : \"value2\", \"age\" : 29}\n",
        "\n",
        "    {\n",
        "          \"age\": 29,\n",
        "          \"id\": 1,\n",
        "          \"name\": \"value2\"\n",
        "    }"
      ],
      "metadata": {
        "id": "8eE35QccA_X-"
      }
    },
    {
      "cell_type": "code",
      "source": [
        "#write here and run the cell\n",
        "import json\n",
        "\n",
        "# Given dictionary\n",
        "sampleJson = {\"id\": 1, \"name\": \"value2\", \"age\": 29}\n",
        "\n",
        "# Open a file in write mode\n",
        "with open('sorted_json_output.json', 'w') as file:\n",
        "    # Write the JSON data to the file with sorted keys\n",
        "    json.dump(sampleJson, file, sort_keys=True, indent=4)\n",
        "\n",
        "print(\"JSON data has been written to 'sorted_json_output.json' with sorted keys.\")\n",
        "{\n",
        "    \"age\": 29,\n",
        "    \"id\": 1,\n",
        "    \"name\": \"value2\"\n",
        "}\n",
        "\n",
        "\n"
      ],
      "metadata": {
        "id": "jLG5tk_X_j5O",
        "colab": {
          "base_uri": "https://localhost:8080/"
        },
        "outputId": "20e880f3-a6d9-43be-d72e-150946dcc46d"
      },
      "execution_count": 7,
      "outputs": [
        {
          "output_type": "stream",
          "name": "stdout",
          "text": [
            "JSON data has been written to 'sorted_json_output.json' with sorted keys.\n"
          ]
        },
        {
          "output_type": "execute_result",
          "data": {
            "text/plain": [
              "{'age': 29, 'id': 1, 'name': 'value2'}"
            ]
          },
          "metadata": {},
          "execution_count": 7
        }
      ]
    }
  ]
}